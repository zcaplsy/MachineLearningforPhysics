{
 "cells": [
  {
   "cell_type": "markdown",
   "metadata": {},
   "source": [
    "# Week 5 Excercise"
   ]
  },
  {
   "cell_type": "code",
   "execution_count": 1,
   "metadata": {},
   "outputs": [
    {
     "name": "stdout",
     "output_type": "stream",
     "text": [
      "2.2.0\n"
     ]
    }
   ],
   "source": [
    "import matplotlib.pyplot as plt\n",
    "import numpy as np\n",
    "import math\n",
    "\n",
    "# TensorFlow and tf.keras\n",
    "import tensorflow as tf\n",
    "from tensorflow import keras\n",
    "\n",
    "import matplotlib.style #Some style nonsense\n",
    "import matplotlib as mpl #Some more style nonsense\n",
    "\n",
    "from scipy import linalg\n",
    "\n",
    "mpl.rcParams[\"legend.frameon\"] = False\n",
    "mpl.rcParams['figure.dpi']=200 # dots per inch\n",
    "\n",
    "#Useful for debugging problems\n",
    "print(tf.__version__)"
   ]
  },
  {
   "cell_type": "markdown",
   "metadata": {},
   "source": [
    "#### Downloading MNIST dataset"
   ]
  },
  {
   "cell_type": "code",
   "execution_count": 2,
   "metadata": {},
   "outputs": [],
   "source": [
    "mnist = keras.datasets.mnist   #Original handwritten digit MNIST\n",
    "(train_images, train_labels), (test_images, test_labels) = mnist.load_data()\n",
    "\n",
    "#rescaling images so that they are in range 0-1\n",
    "train_images=train_images/255.0\n",
    "test_images=test_images/255.0\n",
    "\n",
    "#reshaping image arrays so that they can be passed through CNN\n",
    "train_images=train_images.reshape(train_images.shape[0],28,28,1)\n",
    "test_images=test_images.reshape(test_images.shape[0],28,28,1)"
   ]
  },
  {
   "cell_type": "markdown",
   "metadata": {},
   "source": [
    "### Step 1 \n",
    "Training a neural network on the MNIST training dataset that achieves 95% accuracy or more on the test dataset."
   ]
  },
  {
   "cell_type": "code",
   "execution_count": 3,
   "metadata": {},
   "outputs": [],
   "source": [
    "#initiates new model\n",
    "model = keras.models.Sequential()\n",
    "model.add(keras.layers.Conv2D(28, (3,3), activation='relu', input_shape=(28,28,1)))\n",
    "model.add(keras.layers.Flatten())\n",
    "model.add(keras.layers.Dense(10))"
   ]
  },
  {
   "cell_type": "code",
   "execution_count": 4,
   "metadata": {
    "scrolled": true
   },
   "outputs": [
    {
     "name": "stdout",
     "output_type": "stream",
     "text": [
      "Epoch 1/50\n",
      "938/938 [==============================] - 5s 5ms/step - loss: 0.2241 - accuracy: 0.9363 - val_loss: 0.1003 - val_accuracy: 0.9704\n",
      "Epoch 2/50\n",
      "938/938 [==============================] - 5s 5ms/step - loss: 0.0809 - accuracy: 0.9765 - val_loss: 0.0663 - val_accuracy: 0.9787\n",
      "Epoch 3/50\n",
      "938/938 [==============================] - 5s 5ms/step - loss: 0.0568 - accuracy: 0.9828 - val_loss: 0.0668 - val_accuracy: 0.9778\n",
      "Epoch 4/50\n",
      "938/938 [==============================] - 5s 5ms/step - loss: 0.0440 - accuracy: 0.9873 - val_loss: 0.0601 - val_accuracy: 0.9803\n",
      "Epoch 5/50\n",
      "938/938 [==============================] - 5s 5ms/step - loss: 0.0356 - accuracy: 0.9890 - val_loss: 0.0613 - val_accuracy: 0.9802\n",
      "Epoch 6/50\n",
      "938/938 [==============================] - 5s 5ms/step - loss: 0.0288 - accuracy: 0.9915 - val_loss: 0.0615 - val_accuracy: 0.9807\n",
      "Epoch 7/50\n",
      "938/938 [==============================] - 5s 5ms/step - loss: 0.0238 - accuracy: 0.9930 - val_loss: 0.0640 - val_accuracy: 0.9816\n",
      "Epoch 8/50\n",
      "938/938 [==============================] - 6s 6ms/step - loss: 0.0194 - accuracy: 0.9947 - val_loss: 0.0674 - val_accuracy: 0.9804\n",
      "Epoch 9/50\n",
      "938/938 [==============================] - 5s 5ms/step - loss: 0.0152 - accuracy: 0.9958 - val_loss: 0.0714 - val_accuracy: 0.9802\n",
      "Epoch 00009: early stopping\n"
     ]
    }
   ],
   "source": [
    "#compiling model so that we can see how well the model is doing\n",
    "model.compile(optimizer='adam',\n",
    "              loss=tf.keras.losses.SparseCategoricalCrossentropy(from_logits=True),\n",
    "              metrics=['accuracy'])\n",
    "\n",
    "#use this to. prevent over fitting of model on the training set\n",
    "early_stop = keras.callbacks.EarlyStopping(monitor='val_loss', mode='min', verbose=1, patience=5)\n",
    "\n",
    "#fitting model to the data\n",
    "history = model.fit(train_images, train_labels, epochs=50, batch_size=64, \n",
    "                    validation_data=(test_images, test_labels),\n",
    "                             callbacks=[early_stop])"
   ]
  },
  {
   "cell_type": "code",
   "execution_count": 5,
   "metadata": {},
   "outputs": [
    {
     "name": "stdout",
     "output_type": "stream",
     "text": [
      "Test Accuracy is 98.02%\n"
     ]
    }
   ],
   "source": [
    "#evaluates final test accuracy of model\n",
    "test_loss, test_acc = model.evaluate(test_images,  test_labels, verbose=0)\n",
    "print('Test Accuracy is {}%'.format(round(test_acc*100,2)))"
   ]
  },
  {
   "cell_type": "markdown",
   "metadata": {},
   "source": [
    "### Step 2\n",
    "Decompose the MNIST training dataset into PCA components."
   ]
  },
  {
   "cell_type": "code",
   "execution_count": 6,
   "metadata": {},
   "outputs": [
    {
     "name": "stdout",
     "output_type": "stream",
     "text": [
      "Values Based On The Training Dataset\n",
      "train_images.shape: (60000, 28, 28, 1)\n",
      "X_train.shape: (60000, 784)\n",
      "rho.shape: (784, 784)\n",
      "vecs.shape: (784, 784)\n",
      "vals.shape: (784,)\n"
     ]
    }
   ],
   "source": [
    "#1. Reshaping datasets\n",
    "print('Values Based On The Training Dataset')\n",
    "print(\"train_images.shape: {}\".format(np.shape(train_images)))\n",
    "X_train=np.reshape(train_images,(60000,784))\n",
    "X_test=np.reshape(test_images,(10000,784))\n",
    "print(\"X_train.shape: {}\".format(np.shape(X_train)))\n",
    "\n",
    "#2. Finding mean of datasets to then centre them at zero\n",
    "mu_train=np.mean(X_train,axis=0)\n",
    "mu_test=np.mean(X_test,axis=0)\n",
    "x_train=X_train-mu_train\n",
    "x_test=X_test-mu_test\n",
    "\n",
    "#3. Making the Covariance Matrix of x\n",
    "rho=np.cov(x_train,rowvar=False)\n",
    "rho_test=np.cov(x_test,rowvar=False) \n",
    "print(\"rho.shape: {}\".format(np.shape(rho)))\n",
    "\n",
    "#4. Get the eigenvalues and vectors of rho\n",
    "vals,vecs=linalg.eigh(rho)\n",
    "vals_test,vecs_test=linalg.eigh(rho_test)\n",
    "\n",
    "#vals is a 1-D array of the eigenvalues in ascending order, vecs is a columnwise array of the normalised\n",
    "# eigenvectors such that vecs[:,i] is the eigenvector correspondong to vals[i]\n",
    "print(\"vecs.shape: {}\".format(np.shape(vecs)))\n",
    "print(\"vals.shape: {}\".format(np.shape(vals)))\n",
    "\n",
    "#5. Reversing the order so that the best values come first\n",
    "vecs=np.flip(vecs)\n",
    "vals=np.flip(vals)\n",
    "vecs_test=np.flip(vecs_test)\n",
    "vals_test=np.flip(vals_test)\n",
    "\n",
    "P_train=np.dot(x_train,vecs)\n",
    "P_test=np.dot(x_test,vecs_test)"
   ]
  },
  {
   "cell_type": "markdown",
   "metadata": {},
   "source": [
    "### Step 3\n",
    "We will set up an array of 32 values from 0 to 784, and these will be the values for the different PCA components.\n",
    "For each of these values we will create a new set of test images to test our model,which hasn't been trained with the reconstructed images, on. Finally we will plot the final test accuracy agaisnt the number of PCA components used."
   ]
  },
  {
   "cell_type": "code",
   "execution_count": 7,
   "metadata": {
    "scrolled": true
   },
   "outputs": [
    {
     "name": "stdout",
     "output_type": "stream",
     "text": [
      "Step 1 out of 49\n",
      "Step 2 out of 49\n",
      "Step 3 out of 49\n",
      "Step 4 out of 49\n",
      "Step 5 out of 49\n",
      "Step 6 out of 49\n",
      "Step 7 out of 49\n",
      "Step 8 out of 49\n",
      "Step 9 out of 49\n",
      "Step 10 out of 49\n",
      "Step 11 out of 49\n",
      "Step 12 out of 49\n",
      "Step 13 out of 49\n",
      "Step 14 out of 49\n",
      "Step 15 out of 49\n",
      "Step 16 out of 49\n",
      "Step 17 out of 49\n",
      "Step 18 out of 49\n",
      "Step 19 out of 49\n",
      "Step 20 out of 49\n",
      "Step 21 out of 49\n",
      "Step 22 out of 49\n",
      "Step 23 out of 49\n",
      "Step 24 out of 49\n",
      "Step 25 out of 49\n",
      "Step 26 out of 49\n",
      "Step 27 out of 49\n",
      "Step 28 out of 49\n",
      "Step 29 out of 49\n",
      "Step 30 out of 49\n",
      "Step 31 out of 49\n",
      "Step 32 out of 49\n",
      "Step 33 out of 49\n",
      "Step 34 out of 49\n",
      "Step 35 out of 49\n",
      "Step 36 out of 49\n",
      "Step 37 out of 49\n",
      "Step 38 out of 49\n",
      "Step 39 out of 49\n",
      "Step 40 out of 49\n",
      "Step 41 out of 49\n",
      "Step 42 out of 49\n",
      "Step 43 out of 49\n",
      "Step 44 out of 49\n",
      "Step 45 out of 49\n",
      "Step 46 out of 49\n",
      "Step 47 out of 49\n",
      "Step 48 out of 49\n",
      "Step 49 out of 49\n"
     ]
    }
   ],
   "source": [
    "pca = np.arange(0,784,16) #sets array of values for PCA\n",
    "l = len(pca)\n",
    "\n",
    "#empty array to insert values in\n",
    "new_test_images = np.zeros((l,10000,784))\n",
    "test_acc1 = np.zeros(l)\n",
    "\n",
    "for i in range(l):\n",
    "    #reconstructing image using a subset of the eigenvectors\n",
    "    new_test_images[i] = (np.dot(P_test[:,0:pca[i]],vecs_test.T[0:pca[i],:]))+mu_test\n",
    "    \n",
    "    #evaluate model accuracy with PCAs\n",
    "    test_loss, test_acc = model.evaluate(np.reshape(new_test_images[i],(10000,28,28,1)),  test_labels, verbose=0)\n",
    "    test_acc1[i] = test_acc\n",
    "    print('Step {} out of {}'.format(i+1,l))"
   ]
  },
  {
   "cell_type": "code",
   "execution_count": 8,
   "metadata": {
    "scrolled": false
   },
   "outputs": [
    {
     "data": {
      "image/png": "[encoded data removed]",
      "text/plain": [
       "<Figure size 864x576 with 1 Axes>"
      ]
     },
     "metadata": {
      "needs_background": "light"
     },
     "output_type": "display_data"
    }
   ],
   "source": [
    "plt.figure(figsize=(12,8))\n",
    "plt.title('Model trained with Original Images')\n",
    "plt.plot(pca,test_acc1)\n",
    "plt.xlabel('Number of PCA Components')\n",
    "plt.ylabel('Test Accuracy')\n",
    "plt.grid(True, axis ='both')"
   ]
  },
  {
   "cell_type": "markdown",
   "metadata": {},
   "source": [
    "We can see here that the first 50 components get to an accuracy of of 80% and the next 50 well over 90%, after this the accuracy changes very little. From this we can see that the first 100 PCA components are the most important ones."
   ]
  },
  {
   "cell_type": "markdown",
   "metadata": {},
   "source": [
    "### Step 4\n",
    "As we have seen previously the best 100 components are the most useful for obtaining a high degree of accuracy. So now we will repeat the previous step but this time we will train our model on images that have been reconstructed from the best 100 PCA components."
   ]
  },
  {
   "cell_type": "code",
   "execution_count": 9,
   "metadata": {},
   "outputs": [],
   "source": [
    "#reconstruct training images with the best 100 PCA components \n",
    "new_train_images100 = (np.dot(P_train[:,0:100],vecs.T[0:100,:]))+mu_train\n",
    "train_images_100 = np.reshape(new_train_images100,(60000,28,28,1))        #to make suitable for model"
   ]
  },
  {
   "cell_type": "code",
   "execution_count": 10,
   "metadata": {},
   "outputs": [],
   "source": [
    "#initiates new model\n",
    "model = keras.models.Sequential()\n",
    "model.add(keras.layers.Conv2D(28, (3,3), activation='relu', input_shape=(28,28,1)))\n",
    "model.add(keras.layers.Flatten())\n",
    "model.add(keras.layers.Dense(10))"
   ]
  },
  {
   "cell_type": "code",
   "execution_count": 11,
   "metadata": {},
   "outputs": [
    {
     "name": "stdout",
     "output_type": "stream",
     "text": [
      "Epoch 1/50\n",
      "938/938 [==============================] - 5s 5ms/step - loss: 0.2072 - accuracy: 0.9416 - val_loss: 0.0884 - val_accuracy: 0.9753\n",
      "Epoch 2/50\n",
      "938/938 [==============================] - 5s 5ms/step - loss: 0.0767 - accuracy: 0.9776 - val_loss: 0.0877 - val_accuracy: 0.9743\n",
      "Epoch 3/50\n",
      "938/938 [==============================] - 5s 5ms/step - loss: 0.0583 - accuracy: 0.9827 - val_loss: 0.0804 - val_accuracy: 0.9752\n",
      "Epoch 4/50\n",
      "938/938 [==============================] - 5s 5ms/step - loss: 0.0478 - accuracy: 0.9863 - val_loss: 0.0780 - val_accuracy: 0.9772\n",
      "Epoch 5/50\n",
      "938/938 [==============================] - 5s 5ms/step - loss: 0.0403 - accuracy: 0.9876 - val_loss: 0.0790 - val_accuracy: 0.9772\n",
      "Epoch 6/50\n",
      "938/938 [==============================] - 5s 5ms/step - loss: 0.0356 - accuracy: 0.9890 - val_loss: 0.0833 - val_accuracy: 0.9760\n",
      "Epoch 7/50\n",
      "938/938 [==============================] - 5s 6ms/step - loss: 0.0304 - accuracy: 0.9905 - val_loss: 0.0867 - val_accuracy: 0.9748\n",
      "Epoch 8/50\n",
      "938/938 [==============================] - 5s 5ms/step - loss: 0.0258 - accuracy: 0.9919 - val_loss: 0.1011 - val_accuracy: 0.9711\n",
      "Epoch 9/50\n",
      "938/938 [==============================] - 5s 5ms/step - loss: 0.0219 - accuracy: 0.9935 - val_loss: 0.0905 - val_accuracy: 0.9764\n",
      "Epoch 00009: early stopping\n"
     ]
    }
   ],
   "source": [
    "#compiling model so that we can see how well the model is doing\n",
    "model.compile(optimizer='adam',\n",
    "              loss=tf.keras.losses.SparseCategoricalCrossentropy(from_logits=True),\n",
    "              metrics=['accuracy'])\n",
    "\n",
    "#use this to. prevent over fitting of model on the training set\n",
    "early_stop = keras.callbacks.EarlyStopping(monitor='val_loss', mode='min', verbose=1, patience=5)\n",
    "\n",
    "#fitting model to the data\n",
    "history = model.fit(train_images_100, train_labels, epochs=50, batch_size=64, \n",
    "                    validation_data=(test_images, test_labels),\n",
    "                             callbacks=[early_stop])"
   ]
  },
  {
   "cell_type": "code",
   "execution_count": 12,
   "metadata": {
    "scrolled": true
   },
   "outputs": [
    {
     "name": "stdout",
     "output_type": "stream",
     "text": [
      "Step 1 out of 49\n",
      "Step 2 out of 49\n",
      "Step 3 out of 49\n",
      "Step 4 out of 49\n",
      "Step 5 out of 49\n",
      "Step 6 out of 49\n",
      "Step 7 out of 49\n",
      "Step 8 out of 49\n",
      "Step 9 out of 49\n",
      "Step 10 out of 49\n",
      "Step 11 out of 49\n",
      "Step 12 out of 49\n",
      "Step 13 out of 49\n",
      "Step 14 out of 49\n",
      "Step 15 out of 49\n",
      "Step 16 out of 49\n",
      "Step 17 out of 49\n",
      "Step 18 out of 49\n",
      "Step 19 out of 49\n",
      "Step 20 out of 49\n",
      "Step 21 out of 49\n",
      "Step 22 out of 49\n",
      "Step 23 out of 49\n",
      "Step 24 out of 49\n",
      "Step 25 out of 49\n",
      "Step 26 out of 49\n",
      "Step 27 out of 49\n",
      "Step 28 out of 49\n",
      "Step 29 out of 49\n",
      "Step 30 out of 49\n",
      "Step 31 out of 49\n",
      "Step 32 out of 49\n",
      "Step 33 out of 49\n",
      "Step 34 out of 49\n",
      "Step 35 out of 49\n",
      "Step 36 out of 49\n",
      "Step 37 out of 49\n",
      "Step 38 out of 49\n",
      "Step 39 out of 49\n",
      "Step 40 out of 49\n",
      "Step 41 out of 49\n",
      "Step 42 out of 49\n",
      "Step 43 out of 49\n",
      "Step 44 out of 49\n",
      "Step 45 out of 49\n",
      "Step 46 out of 49\n",
      "Step 47 out of 49\n",
      "Step 48 out of 49\n",
      "Step 49 out of 49\n"
     ]
    }
   ],
   "source": [
    "pca = np.arange(0,784,16) #sets array of values for PCA\n",
    "l = len(pca)\n",
    "\n",
    "#empty array to insert values in\n",
    "new_test_images = np.zeros((l,10000,784))\n",
    "test_acc2 = np.zeros(l)\n",
    "\n",
    "for i in range(l):\n",
    "    #reconstructing image using a subset of the eigenvectors\n",
    "    new_test_images[i] = (np.dot(P_test[:,0:pca[i]],vecs_test.T[0:pca[i],:]))+mu_test\n",
    "    \n",
    "    #evaluate model accuracy with PCAs\n",
    "    test_loss, test_acc = model.evaluate(np.reshape(new_test_images[i],(10000,28,28,1)),  test_labels, verbose=0)\n",
    "    test_acc2[i] = test_acc\n",
    "    print('Step {} out of {}'.format(i+1,l))"
   ]
  },
  {
   "cell_type": "code",
   "execution_count": 13,
   "metadata": {
    "scrolled": false
   },
   "outputs": [
    {
     "data": {
      "image/png": "[encoded data removed]",
      "text/plain": [
       "<Figure size 864x576 with 1 Axes>"
      ]
     },
     "metadata": {
      "needs_background": "light"
     },
     "output_type": "display_data"
    }
   ],
   "source": [
    "plt.figure(figsize=(12,8))\n",
    "plt.title('Model Trained with Reconstructed Images from Best 100 PCA Components')\n",
    "plt.plot(pca,test_acc1)\n",
    "plt.xlabel('Number of PCA Components')\n",
    "plt.ylabel('Test Accuracy')\n",
    "plt.grid(True, axis ='both')"
   ]
  },
  {
   "cell_type": "markdown",
   "metadata": {},
   "source": [
    "We can see the accuracy increases at a much faster rate in the first 50 PCA components than when the model was trained with the original MNIST dataset, so would be able to be more accurate with less information."
   ]
  },
  {
   "cell_type": "markdown",
   "metadata": {},
   "source": [
    "### Step 5\n",
    "Now we are going to repeat step 4 but insteasd of the best 100 PCA components we will use the best 20."
   ]
  },
  {
   "cell_type": "code",
   "execution_count": 14,
   "metadata": {},
   "outputs": [],
   "source": [
    "#reconstruct training images with the best 100 PCA components \n",
    "new_train_images100 = (np.dot(P_train[:,0:20],vecs.T[0:20,:]))+mu_train\n",
    "train_images_100 = np.reshape(new_train_images100,(60000,28,28,1))        #to make suitable for model"
   ]
  },
  {
   "cell_type": "code",
   "execution_count": 15,
   "metadata": {},
   "outputs": [],
   "source": [
    "#initiates new model\n",
    "model = keras.models.Sequential()\n",
    "model.add(keras.layers.Conv2D(28, (3,3), activation='relu', input_shape=(28,28,1)))\n",
    "model.add(keras.layers.Flatten())\n",
    "model.add(keras.layers.Dense(10))"
   ]
  },
  {
   "cell_type": "code",
   "execution_count": 16,
   "metadata": {},
   "outputs": [
    {
     "name": "stdout",
     "output_type": "stream",
     "text": [
      "Epoch 1/50\n",
      "938/938 [==============================] - 6s 6ms/step - loss: 0.2940 - accuracy: 0.9122 - val_loss: 0.5387 - val_accuracy: 0.8297\n",
      "Epoch 2/50\n",
      "938/938 [==============================] - 5s 5ms/step - loss: 0.1530 - accuracy: 0.9535 - val_loss: 0.4698 - val_accuracy: 0.8564\n",
      "Epoch 3/50\n",
      "938/938 [==============================] - 5s 5ms/step - loss: 0.1265 - accuracy: 0.9609 - val_loss: 0.4977 - val_accuracy: 0.8542\n",
      "Epoch 4/50\n",
      "938/938 [==============================] - 4s 5ms/step - loss: 0.1113 - accuracy: 0.9659 - val_loss: 0.5306 - val_accuracy: 0.8469\n",
      "Epoch 5/50\n",
      "938/938 [==============================] - 5s 5ms/step - loss: 0.1001 - accuracy: 0.9686 - val_loss: 0.6226 - val_accuracy: 0.8264\n",
      "Epoch 6/50\n",
      "938/938 [==============================] - 5s 5ms/step - loss: 0.0939 - accuracy: 0.9711 - val_loss: 0.6098 - val_accuracy: 0.8402\n",
      "Epoch 7/50\n",
      "938/938 [==============================] - 5s 5ms/step - loss: 0.0880 - accuracy: 0.9724 - val_loss: 0.6520 - val_accuracy: 0.8271\n",
      "Epoch 00007: early stopping\n"
     ]
    }
   ],
   "source": [
    "#compiling model so that we can see how well the model is doing\n",
    "model.compile(optimizer='adam',\n",
    "              loss=tf.keras.losses.SparseCategoricalCrossentropy(from_logits=True),\n",
    "              metrics=['accuracy'])\n",
    "\n",
    "#use this to. prevent over fitting of model on the training set\n",
    "early_stop = keras.callbacks.EarlyStopping(monitor='val_loss', mode='min', verbose=1, patience=5)\n",
    "\n",
    "#fitting model to the data\n",
    "history = model.fit(train_images_100, train_labels, epochs=50, batch_size=64, \n",
    "                    validation_data=(test_images, test_labels),\n",
    "                             callbacks=[early_stop])"
   ]
  },
  {
   "cell_type": "code",
   "execution_count": 17,
   "metadata": {
    "scrolled": true
   },
   "outputs": [
    {
     "name": "stdout",
     "output_type": "stream",
     "text": [
      "Step 1 out of 49\n",
      "Step 2 out of 49\n",
      "Step 3 out of 49\n",
      "Step 4 out of 49\n",
      "Step 5 out of 49\n",
      "Step 6 out of 49\n",
      "Step 7 out of 49\n",
      "Step 8 out of 49\n",
      "Step 9 out of 49\n",
      "Step 10 out of 49\n",
      "Step 11 out of 49\n",
      "Step 12 out of 49\n",
      "Step 13 out of 49\n",
      "Step 14 out of 49\n",
      "Step 15 out of 49\n",
      "Step 16 out of 49\n",
      "Step 17 out of 49\n",
      "Step 18 out of 49\n",
      "Step 19 out of 49\n",
      "Step 20 out of 49\n",
      "Step 21 out of 49\n",
      "Step 22 out of 49\n",
      "Step 23 out of 49\n",
      "Step 24 out of 49\n",
      "Step 25 out of 49\n",
      "Step 26 out of 49\n",
      "Step 27 out of 49\n",
      "Step 28 out of 49\n",
      "Step 29 out of 49\n",
      "Step 30 out of 49\n",
      "Step 31 out of 49\n",
      "Step 32 out of 49\n",
      "Step 33 out of 49\n",
      "Step 34 out of 49\n",
      "Step 35 out of 49\n",
      "Step 36 out of 49\n",
      "Step 37 out of 49\n",
      "Step 38 out of 49\n",
      "Step 39 out of 49\n",
      "Step 40 out of 49\n",
      "Step 41 out of 49\n",
      "Step 42 out of 49\n",
      "Step 43 out of 49\n",
      "Step 44 out of 49\n",
      "Step 45 out of 49\n",
      "Step 46 out of 49\n",
      "Step 47 out of 49\n",
      "Step 48 out of 49\n",
      "Step 49 out of 49\n"
     ]
    }
   ],
   "source": [
    "pca = np.arange(0,784,16) #sets array of values for PCA\n",
    "l = len(pca)\n",
    "\n",
    "#empty array to insert values in\n",
    "new_test_images = np.zeros((l,10000,784))\n",
    "test_acc3 = np.zeros(l)\n",
    "\n",
    "for i in range(l):\n",
    "    #reconstructing image using a subset of the eigenvectors\n",
    "    new_test_images[i] = (np.dot(P_test[:,0:pca[i]],vecs_test.T[0:pca[i],:]))+mu_test\n",
    "    \n",
    "    #evaluate model accuracy with PCAs\n",
    "    test_loss, test_acc = model.evaluate(np.reshape(new_test_images[i],(10000,28,28,1)),  test_labels, verbose=0)\n",
    "    test_acc3[i] = test_acc\n",
    "    print('Step {} out of {}'.format(i+1,l))"
   ]
  },
  {
   "cell_type": "code",
   "execution_count": 18,
   "metadata": {},
   "outputs": [
    {
     "data": {
      "image/png": "[encoded data removed]",
      "text/plain": [
       "<Figure size 864x576 with 1 Axes>"
      ]
     },
     "metadata": {
      "needs_background": "light"
     },
     "output_type": "display_data"
    }
   ],
   "source": [
    "plt.figure(figsize=(12,8))\n",
    "plt.title('Model Trained with Reconstructed Images from Best 20 PCA Components')\n",
    "plt.plot(pca,test_acc3)\n",
    "plt.xlabel('Number of PCA Components')\n",
    "plt.ylabel('Test Accuracy')\n",
    "plt.grid(True, axis ='both')"
   ]
  },
  {
   "cell_type": "code",
   "execution_count": 19,
   "metadata": {},
   "outputs": [
    {
     "data": {
      "image/png": "[encoded data removed]",
      "text/plain": [
       "<Figure size 864x576 with 1 Axes>"
      ]
     },
     "metadata": {
      "needs_background": "light"
     },
     "output_type": "display_data"
    }
   ],
   "source": [
    "#comparison plot\n",
    "plt.figure(figsize=(12,8))\n",
    "plt.title('Comparison of Different Training Methods')\n",
    "plt.plot(pca,test_acc1,label='Model trained with Original Images')\n",
    "plt.plot(pca,test_acc2,label='Model Trained with Reconstructed Images from Best 100 PCA Components')\n",
    "plt.plot(pca,test_acc3,label='Model Trained with Reconstructed Images from Best 20 PCA Components')\n",
    "plt.xlabel('Number of PCA Components')\n",
    "plt.ylabel('Test Accuracy')\n",
    "plt.legend()\n",
    "plt.grid(True, axis ='both')"
   ]
  },
  {
   "cell_type": "markdown",
   "metadata": {},
   "source": [
    "As we can see the less PCA components you train on allows for a higher peak in accuracy with less components used from the test set. This means that by reconstructing images with a small amount of PCA components allows for quick and accurate results. But as the testing set components increase to the original amount the accuracy decrease, which can be quite sharpe when the PCA number that you train with is very low."
   ]
  }
 ],
 "metadata": {
  "kernelspec": {
   "display_name": "Python 3",
   "language": "python",
   "name": "python3"
  },
  "language_info": {
   "codemirror_mode": {
    "name": "ipython",
    "version": 3
   },
   "file_extension": ".py",
   "mimetype": "text/x-python",
   "name": "python",
   "nbconvert_exporter": "python",
   "pygments_lexer": "ipython3",
   "version": "3.7.4"
  }
 },
 "nbformat": 4,
 "nbformat_minor": 2
}
