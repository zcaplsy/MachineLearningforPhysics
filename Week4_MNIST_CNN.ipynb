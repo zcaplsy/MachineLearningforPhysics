{
  "nbformat": 4,
  "nbformat_minor": 0,
  "metadata": {
    "accelerator": "GPU",
    "colab": {
      "name": "Week4_MNIST_CNN.ipynb",
      "provenance": []
    },
    "kernelspec": {
      "display_name": "Python 3",
      "language": "python",
      "name": "python3"
    },
    "language_info": {
      "codemirror_mode": {
        "name": "ipython",
        "version": 3
      },
      "file_extension": ".py",
      "mimetype": "text/x-python",
      "name": "python",
      "nbconvert_exporter": "python",
      "pygments_lexer": "ipython3",
      "version": "3.7.4"
    }
  },
  "cells": [
    {
      "cell_type": "markdown",
      "metadata": {
        "id": "EofVOLvrg0wH"
      },
      "source": [
        "# Practical Machine Learning for Physicists\n",
        "## Week 2 Exercise - Part 1\n",
        "## Deadline Monday 9th November at 12pm (Noon)"
      ]
    },
    {
      "cell_type": "markdown",
      "metadata": {
        "id": "Pasxff00g0wI"
      },
      "source": [
        "#### Practicalities\n",
        "You should use this notebook for your work and upload it to both Moodle and CoCalc. You are expected to use TensorFlow and Keras to complete these takss. The notebook should be self-contained and able to be executed if necessary. Marks will be awarded for (roughly equally weighted):\n",
        "- Overall notebook clarity (both in terms of good coding practice and coherent discussion)\n",
        "- Network performance (how well does your classifier do?)\n",
        "- Network efficiency (how does your network compare to the optimum networks for this task?)\n",
        "- Network training (do you do a good job of traning your network?)"
      ]
    },
    {
      "cell_type": "code",
      "metadata": {
        "id": "xWM0KVA8g0wJ",
        "outputId": "1cc83451-05d5-43ad-e9db-ef0766c2d848",
        "colab": {
          "base_uri": "https://localhost:8080/"
        }
      },
      "source": [
        "#imports\n",
        "import matplotlib.pyplot as plt\n",
        "import numpy as np\n",
        "import math\n",
        "\n",
        "# TensorFlow and tf.keras\n",
        "import tensorflow as tf\n",
        "from tensorflow import keras\n",
        "\n",
        "import matplotlib.style \n",
        "import matplotlib as mpl\n",
        "\n",
        "\n",
        "#Set default figure size\n",
        "mpl.rcParams[\"legend.frameon\"] = False\n",
        "mpl.rcParams['figure.dpi']=200 # dots per inch\n",
        "\n",
        "#For debugging problems\n",
        "print(tf.__version__)"
      ],
      "execution_count": 1,
      "outputs": [
        {
          "output_type": "stream",
          "text": [
            "2.3.0\n"
          ],
          "name": "stdout"
        }
      ]
    },
    {
      "cell_type": "markdown",
      "metadata": {
        "id": "diHy0N7Yg0wS"
      },
      "source": [
        "### Task 1:\n",
        "Design, implement and test a neural network utilising a single convolutional layer (use as many other non convolutional layers as you need) to classify the MNIST handwritten digits. What is the maximum test accuracry you can achieve using a single convolutional layer?"
      ]
    },
    {
      "cell_type": "code",
      "metadata": {
        "id": "NFaJBB78g0wU",
        "outputId": "0704986f-4b5c-4b35-9218-bad5b37b88aa",
        "colab": {
          "base_uri": "https://localhost:8080/"
        }
      },
      "source": [
        "mnist = keras.datasets.mnist   #The original handwritten digit MNIST\n",
        "(train_images, train_labels), (test_images, test_labels) = mnist.load_data()\n",
        "\n",
        "#rescaling images so that they are in range 0-1\n",
        "train_images=train_images/255.0\n",
        "test_images=test_images/255.0"
      ],
      "execution_count": 2,
      "outputs": [
        {
          "output_type": "stream",
          "text": [
            "Downloading data from https://storage.googleapis.com/tensorflow/tf-keras-datasets/mnist.npz\n",
            "11493376/11490434 [==============================] - 0s 0us/step\n"
          ],
          "name": "stdout"
        }
      ]
    },
    {
      "cell_type": "code",
      "metadata": {
        "id": "4zFh4mcPg0wZ",
        "outputId": "de5a5aa3-a079-455e-8d60-2f5ebb124428",
        "colab": {
          "base_uri": "https://localhost:8080/",
          "height": 589
        }
      },
      "source": [
        "plt.figure(figsize=(10,10))\n",
        "for i in range(25):\n",
        "    plt.subplot(5,5,i+1)\n",
        "    plt.xticks([])\n",
        "    plt.yticks([])\n",
        "    plt.grid(False)\n",
        "    plt.imshow(train_images[i], cmap=plt.cm.binary)\n",
        "    plt.xlabel(train_labels[i])\n",
        "plt.show()"
      ],
      "execution_count": 3,
      "outputs": [
        {
          "output_type": "display_data",
          "data": {
            "image/png": "[encoded data removed]",
            "text/plain": [
              "<Figure size 720x720 with 25 Axes>"
            ]
          },
          "metadata": {
            "tags": []
          }
        }
      ]
    },
    {
      "cell_type": "code",
      "metadata": {
        "id": "AjRJ60Ung0we"
      },
      "source": [
        "#reshaping image arrays so that they can be passed through CNN\n",
        "train_images=train_images.reshape(train_images.shape[0],28,28,1)\n",
        "test_images=test_images.reshape(test_images.shape[0],28,28,1)"
      ],
      "execution_count": 4,
      "outputs": []
    },
    {
      "cell_type": "code",
      "metadata": {
        "id": "eaD8Maj_g0wi"
      },
      "source": [
        "#initiates new model\n",
        "model = keras.models.Sequential()\n",
        "model.add(keras.layers.Conv2D(28, (3,3), activation='relu', input_shape=(28,28,1)))\n",
        "model.add(keras.layers.MaxPooling2D((2, 2)))\n",
        "model.add(keras.layers.Flatten())\n",
        "model.add(keras.layers.Dense(32, activation='sigmoid'))\n",
        "model.add(keras.layers.Dropout(0.2))\n",
        "model.add(keras.layers.Dense(64, activation='sigmoid'))\n",
        "model.add(keras.layers.Dropout(0.2))\n",
        "model.add(keras.layers.Dense(128, activation='sigmoid'))\n",
        "model.add(keras.layers.Dropout(0.2))\n",
        "model.add(keras.layers.Dense(10))"
      ],
      "execution_count": 19,
      "outputs": []
    },
    {
      "cell_type": "markdown",
      "metadata": {
        "id": "-lCcxxfM0mwO"
      },
      "source": [
        "In this model I have used one convolutional layer, as required by task. I have used multiple 'Dense' layers with a high amount of neurons, so to prevent over fitting I have inserted 'droupout' layers which reduce over fitting to the training set."
      ]
    },
    {
      "cell_type": "code",
      "metadata": {
        "id": "rtZEVpKZg0wm",
        "outputId": "859bbe32-119e-4ed2-b18a-e1efadd073b8",
        "colab": {
          "base_uri": "https://localhost:8080/"
        }
      },
      "source": [
        "model.summary()"
      ],
      "execution_count": 20,
      "outputs": [
        {
          "output_type": "stream",
          "text": [
            "Model: \"sequential_3\"\n",
            "_________________________________________________________________\n",
            "Layer (type)                 Output Shape              Param #   \n",
            "=================================================================\n",
            "conv2d_6 (Conv2D)            (None, 26, 26, 28)        280       \n",
            "_________________________________________________________________\n",
            "max_pooling2d_4 (MaxPooling2 (None, 13, 13, 28)        0         \n",
            "_________________________________________________________________\n",
            "flatten_3 (Flatten)          (None, 4732)              0         \n",
            "_________________________________________________________________\n",
            "dense_12 (Dense)             (None, 32)                151456    \n",
            "_________________________________________________________________\n",
            "dropout_9 (Dropout)          (None, 32)                0         \n",
            "_________________________________________________________________\n",
            "dense_13 (Dense)             (None, 64)                2112      \n",
            "_________________________________________________________________\n",
            "dropout_10 (Dropout)         (None, 64)                0         \n",
            "_________________________________________________________________\n",
            "dense_14 (Dense)             (None, 128)               8320      \n",
            "_________________________________________________________________\n",
            "dropout_11 (Dropout)         (None, 128)               0         \n",
            "_________________________________________________________________\n",
            "dense_15 (Dense)             (None, 10)                1290      \n",
            "=================================================================\n",
            "Total params: 163,458\n",
            "Trainable params: 163,458\n",
            "Non-trainable params: 0\n",
            "_________________________________________________________________\n"
          ],
          "name": "stdout"
        }
      ]
    },
    {
      "cell_type": "markdown",
      "metadata": {
        "id": "j5hrn0Sc0mwQ"
      },
      "source": [
        "When training the model I decided to find out what the best amount of epochs were, but due to there being minute changes when training each model there wasn't a clear solution. Using EarlyStopping I was able to set a criteria on when the fitting was no longer useful. This also allowed me to use excessive epochs because the fitting will stop when the val_loss no longer increases."
      ]
    },
    {
      "cell_type": "code",
      "metadata": {
        "id": "_jkUfPtUg0wv",
        "scrolled": false,
        "outputId": "4dc70202-c037-4fe2-9717-9e4b60875586",
        "colab": {
          "base_uri": "https://localhost:8080/"
        }
      },
      "source": [
        "#compiling model so that we can see how well the model is doing\n",
        "model.compile(optimizer='adam',\n",
        "              loss=tf.keras.losses.SparseCategoricalCrossentropy(from_logits=True),\n",
        "              metrics=['accuracy'])\n",
        "\n",
        "#use this to. prevent over fitting of model on the training set\n",
        "early_stop = keras.callbacks.EarlyStopping(monitor='val_loss', mode='min', verbose=1, patience=10)\n",
        "\n",
        "history = model.fit(train_images, train_labels, epochs=50, batch_size=64, \n",
        "                    validation_data=(test_images, test_labels),\n",
        "                             callbacks=[early_stop])"
      ],
      "execution_count": 21,
      "outputs": [
        {
          "output_type": "stream",
          "text": [
            "Epoch 1/50\n",
            "938/938 [==============================] - 3s 3ms/step - loss: 1.0314 - accuracy: 0.6557 - val_loss: 0.2674 - val_accuracy: 0.9300\n",
            "Epoch 2/50\n",
            "938/938 [==============================] - 3s 3ms/step - loss: 0.2799 - accuracy: 0.9232 - val_loss: 0.1136 - val_accuracy: 0.9681\n",
            "Epoch 3/50\n",
            "938/938 [==============================] - 3s 3ms/step - loss: 0.1758 - accuracy: 0.9502 - val_loss: 0.0947 - val_accuracy: 0.9714\n",
            "Epoch 4/50\n",
            "938/938 [==============================] - 3s 3ms/step - loss: 0.1420 - accuracy: 0.9600 - val_loss: 0.0825 - val_accuracy: 0.9745\n",
            "Epoch 5/50\n",
            "938/938 [==============================] - 3s 3ms/step - loss: 0.1201 - accuracy: 0.9655 - val_loss: 0.0703 - val_accuracy: 0.9779\n",
            "Epoch 6/50\n",
            "938/938 [==============================] - 3s 3ms/step - loss: 0.1037 - accuracy: 0.9706 - val_loss: 0.0646 - val_accuracy: 0.9798\n",
            "Epoch 7/50\n",
            "938/938 [==============================] - 3s 3ms/step - loss: 0.0899 - accuracy: 0.9740 - val_loss: 0.0650 - val_accuracy: 0.9805\n",
            "Epoch 8/50\n",
            "938/938 [==============================] - 3s 3ms/step - loss: 0.0787 - accuracy: 0.9768 - val_loss: 0.0634 - val_accuracy: 0.9808\n",
            "Epoch 9/50\n",
            "938/938 [==============================] - 3s 3ms/step - loss: 0.0733 - accuracy: 0.9791 - val_loss: 0.0647 - val_accuracy: 0.9812\n",
            "Epoch 10/50\n",
            "938/938 [==============================] - 3s 3ms/step - loss: 0.0658 - accuracy: 0.9806 - val_loss: 0.0596 - val_accuracy: 0.9813\n",
            "Epoch 11/50\n",
            "938/938 [==============================] - 3s 3ms/step - loss: 0.0615 - accuracy: 0.9813 - val_loss: 0.0623 - val_accuracy: 0.9819\n",
            "Epoch 12/50\n",
            "938/938 [==============================] - 3s 3ms/step - loss: 0.0553 - accuracy: 0.9837 - val_loss: 0.0622 - val_accuracy: 0.9824\n",
            "Epoch 13/50\n",
            "938/938 [==============================] - 3s 3ms/step - loss: 0.0511 - accuracy: 0.9846 - val_loss: 0.0592 - val_accuracy: 0.9831\n",
            "Epoch 14/50\n",
            "938/938 [==============================] - 3s 3ms/step - loss: 0.0479 - accuracy: 0.9855 - val_loss: 0.0642 - val_accuracy: 0.9829\n",
            "Epoch 15/50\n",
            "938/938 [==============================] - 3s 3ms/step - loss: 0.0449 - accuracy: 0.9861 - val_loss: 0.0628 - val_accuracy: 0.9824\n",
            "Epoch 16/50\n",
            "938/938 [==============================] - 3s 3ms/step - loss: 0.0460 - accuracy: 0.9863 - val_loss: 0.0680 - val_accuracy: 0.9827\n",
            "Epoch 17/50\n",
            "938/938 [==============================] - 3s 3ms/step - loss: 0.0399 - accuracy: 0.9880 - val_loss: 0.0651 - val_accuracy: 0.9820\n",
            "Epoch 18/50\n",
            "938/938 [==============================] - 3s 3ms/step - loss: 0.0381 - accuracy: 0.9881 - val_loss: 0.0652 - val_accuracy: 0.9832\n",
            "Epoch 19/50\n",
            "938/938 [==============================] - 3s 3ms/step - loss: 0.0361 - accuracy: 0.9887 - val_loss: 0.0607 - val_accuracy: 0.9841\n",
            "Epoch 20/50\n",
            "938/938 [==============================] - 3s 3ms/step - loss: 0.0359 - accuracy: 0.9886 - val_loss: 0.0581 - val_accuracy: 0.9855\n",
            "Epoch 21/50\n",
            "938/938 [==============================] - 3s 3ms/step - loss: 0.0332 - accuracy: 0.9896 - val_loss: 0.0625 - val_accuracy: 0.9841\n",
            "Epoch 22/50\n",
            "938/938 [==============================] - 3s 3ms/step - loss: 0.0308 - accuracy: 0.9901 - val_loss: 0.0654 - val_accuracy: 0.9843\n",
            "Epoch 23/50\n",
            "938/938 [==============================] - 3s 3ms/step - loss: 0.0301 - accuracy: 0.9911 - val_loss: 0.0622 - val_accuracy: 0.9853\n",
            "Epoch 24/50\n",
            "938/938 [==============================] - 3s 3ms/step - loss: 0.0280 - accuracy: 0.9911 - val_loss: 0.0643 - val_accuracy: 0.9849\n",
            "Epoch 25/50\n",
            "938/938 [==============================] - 3s 3ms/step - loss: 0.0269 - accuracy: 0.9914 - val_loss: 0.0656 - val_accuracy: 0.9852\n",
            "Epoch 26/50\n",
            "938/938 [==============================] - 3s 3ms/step - loss: 0.0249 - accuracy: 0.9921 - val_loss: 0.0716 - val_accuracy: 0.9835\n",
            "Epoch 27/50\n",
            "938/938 [==============================] - 3s 3ms/step - loss: 0.0256 - accuracy: 0.9920 - val_loss: 0.0648 - val_accuracy: 0.9854\n",
            "Epoch 28/50\n",
            "938/938 [==============================] - 3s 3ms/step - loss: 0.0235 - accuracy: 0.9927 - val_loss: 0.0654 - val_accuracy: 0.9847\n",
            "Epoch 29/50\n",
            "938/938 [==============================] - 3s 3ms/step - loss: 0.0236 - accuracy: 0.9924 - val_loss: 0.0660 - val_accuracy: 0.9843\n",
            "Epoch 30/50\n",
            "938/938 [==============================] - 3s 3ms/step - loss: 0.0223 - accuracy: 0.9929 - val_loss: 0.0715 - val_accuracy: 0.9848\n",
            "Epoch 00030: early stopping\n"
          ],
          "name": "stdout"
        }
      ]
    },
    {
      "cell_type": "code",
      "metadata": {
        "id": "pvI3JIVCg0w3",
        "outputId": "71d11d2e-6dd4-46f6-d1bf-362617ce7a0d",
        "colab": {
          "base_uri": "https://localhost:8080/",
          "height": 346
        }
      },
      "source": [
        "test_loss, test_acc = model.evaluate(test_images,  test_labels, verbose=2)\n",
        "print('Test Accuracy: {}%'.format(np.round(test_acc*100,2)))\n",
        "low = np.sort(history.history['accuracy'])[0]\n",
        "\n",
        "plt.plot(history.history['accuracy'], label='accuracy')\n",
        "plt.plot(history.history['val_accuracy'], label = 'val_accuracy')\n",
        "plt.xlabel('Epoch')\n",
        "plt.ylabel('Accuracy')\n",
        "plt.title('Test Accuracy vs Valuation Accuracy')\n",
        "plt.ylim([round(low-0.05,1), 1])\n",
        "plt.legend()"
      ],
      "execution_count": 22,
      "outputs": [
        {
          "output_type": "stream",
          "text": [
            "313/313 - 1s - loss: 0.0715 - accuracy: 0.9848\n",
            "Test Accuracy: 98.48%\n"
          ],
          "name": "stdout"
        },
        {
          "output_type": "execute_result",
          "data": {
            "text/plain": [
              "<matplotlib.legend.Legend at 0x7f4c1db08da0>"
            ]
          },
          "metadata": {
            "tags": []
          },
          "execution_count": 22
        },
        {
          "output_type": "display_data",
          "data": {
            "image/png": "[encoded data removed]",
            "text/plain": [
              "<Figure size 432x288 with 1 Axes>"
            ]
          },
          "metadata": {
            "tags": [],
            "needs_background": "light"
          }
        }
      ]
    },
    {
      "cell_type": "code",
      "metadata": {
        "id": "FvQPmGWwg0w7",
        "outputId": "765baa81-8560-49ba-d5dd-04abdaabc334",
        "colab": {
          "base_uri": "https://localhost:8080/",
          "height": 312
        }
      },
      "source": [
        "high = np.sort(history.history['loss'])[-1]\n",
        "\n",
        "plt.plot(history.history['loss'], label='loss')\n",
        "plt.plot(history.history['val_loss'], label = 'val_loss')\n",
        "plt.xlabel('Epoch')\n",
        "plt.ylabel('Loss')\n",
        "plt.title('Test Loss vs Valuation Loss')\n",
        "plt.ylim([0,round(high+0.05,1)])\n",
        "plt.legend()"
      ],
      "execution_count": 23,
      "outputs": [
        {
          "output_type": "execute_result",
          "data": {
            "text/plain": [
              "<matplotlib.legend.Legend at 0x7f4c1daa5a20>"
            ]
          },
          "metadata": {
            "tags": []
          },
          "execution_count": 23
        },
        {
          "output_type": "display_data",
          "data": {
            "image/png": "[encoded data removed]",
            "text/plain": [
              "<Figure size 432x288 with 1 Axes>"
            ]
          },
          "metadata": {
            "tags": [],
            "needs_background": "light"
          }
        }
      ]
    },
    {
      "cell_type": "markdown",
      "metadata": {
        "id": "nlIdlJOcg0xD"
      },
      "source": [
        "With one convolutional layer the highest test accuracy that I could achieve was 98.48%, but on overall the final test accurcay tended to be around 98.2%."
      ]
    },
    {
      "cell_type": "markdown",
      "metadata": {
        "id": "BKdHA5spg0xD"
      },
      "source": [
        "### Task 2:\n",
        "Design, implement and test a neural network utitlising multiple convolutional layers (again use as many other non convolutinal laters as you need) to classify the MNIST handwritten digits. What is the maximum test accuracry you can achieve using a multiple convolutional layers?"
      ]
    },
    {
      "cell_type": "code",
      "metadata": {
        "id": "RaKfg91eg0xU"
      },
      "source": [
        "#initialise model\n",
        "model = keras.models.Sequential()\n",
        "\n",
        "#CNN\n",
        "model.add(keras.layers.Conv2D(28, (3,3), activation='relu', input_shape=(28,28,1)))\n",
        "model.add(keras.layers.MaxPooling2D((2, 2)))\n",
        "model.add(keras.layers.Conv2D(28, (3,3), activation='relu'))\n",
        "model.add(keras.layers.Conv2D(28, (3,3), activation='relu'))\n",
        "model.add(keras.layers.Conv2D(28, (3,3), activation='relu'))\n",
        "model.add(keras.layers.MaxPooling2D((2, 2)))\n",
        "\n",
        "#NN\n",
        "model.add(keras.layers.Flatten())\n",
        "model.add(keras.layers.Dense(16, activation='relu'))\n",
        "model.add(keras.layers.Dropout(0.2))\n",
        "model.add(keras.layers.Dense(32, activation='relu'))\n",
        "model.add(keras.layers.Dropout(0.2))\n",
        "model.add(keras.layers.Dense(64, activation='relu'))\n",
        "model.add(keras.layers.Dropout(0.2))\n",
        "model.add(keras.layers.Dense(10))"
      ],
      "execution_count": 10,
      "outputs": []
    },
    {
      "cell_type": "code",
      "metadata": {
        "id": "xBSaYdTSg0xV",
        "outputId": "4d83ecfe-d071-4ce4-af72-02b55dcb97f5",
        "colab": {
          "base_uri": "https://localhost:8080/"
        }
      },
      "source": [
        "model.compile(optimizer='adam',\n",
        "              loss=tf.keras.losses.SparseCategoricalCrossentropy(from_logits=True),\n",
        "              metrics=['accuracy'])\n",
        "\n",
        "#use this to prevent over fitting of model on the training set\n",
        "early_stop = keras.callbacks.EarlyStopping(monitor='val_loss', mode='min', verbose=1, patience=5)\n",
        "\n",
        "history = model.fit(train_images, train_labels, epochs=50, batch_size=128, \n",
        "                    validation_data=(test_images, test_labels),\n",
        "                             callbacks=[early_stop])"
      ],
      "execution_count": 11,
      "outputs": [
        {
          "output_type": "stream",
          "text": [
            "Epoch 1/50\n",
            "469/469 [==============================] - 2s 5ms/step - loss: 0.8929 - accuracy: 0.6874 - val_loss: 0.1513 - val_accuracy: 0.9590\n",
            "Epoch 2/50\n",
            "469/469 [==============================] - 2s 4ms/step - loss: 0.3418 - accuracy: 0.8953 - val_loss: 0.0872 - val_accuracy: 0.9737\n",
            "Epoch 3/50\n",
            "469/469 [==============================] - 2s 4ms/step - loss: 0.2456 - accuracy: 0.9247 - val_loss: 0.0730 - val_accuracy: 0.9799\n",
            "Epoch 4/50\n",
            "469/469 [==============================] - 2s 4ms/step - loss: 0.1982 - accuracy: 0.9391 - val_loss: 0.0612 - val_accuracy: 0.9823\n",
            "Epoch 5/50\n",
            "469/469 [==============================] - 2s 4ms/step - loss: 0.1701 - accuracy: 0.9474 - val_loss: 0.0625 - val_accuracy: 0.9811\n",
            "Epoch 6/50\n",
            "469/469 [==============================] - 2s 4ms/step - loss: 0.1456 - accuracy: 0.9566 - val_loss: 0.0433 - val_accuracy: 0.9867\n",
            "Epoch 7/50\n",
            "469/469 [==============================] - 2s 4ms/step - loss: 0.1367 - accuracy: 0.9598 - val_loss: 0.0427 - val_accuracy: 0.9887\n",
            "Epoch 8/50\n",
            "469/469 [==============================] - 2s 4ms/step - loss: 0.1215 - accuracy: 0.9650 - val_loss: 0.0422 - val_accuracy: 0.9888\n",
            "Epoch 9/50\n",
            "469/469 [==============================] - 2s 4ms/step - loss: 0.1138 - accuracy: 0.9675 - val_loss: 0.0423 - val_accuracy: 0.9878\n",
            "Epoch 10/50\n",
            "469/469 [==============================] - 2s 4ms/step - loss: 0.1092 - accuracy: 0.9682 - val_loss: 0.0405 - val_accuracy: 0.9889\n",
            "Epoch 11/50\n",
            "469/469 [==============================] - 2s 4ms/step - loss: 0.1030 - accuracy: 0.9703 - val_loss: 0.0394 - val_accuracy: 0.9886\n",
            "Epoch 12/50\n",
            "469/469 [==============================] - 2s 4ms/step - loss: 0.0959 - accuracy: 0.9717 - val_loss: 0.0432 - val_accuracy: 0.9880\n",
            "Epoch 13/50\n",
            "469/469 [==============================] - 2s 4ms/step - loss: 0.0917 - accuracy: 0.9729 - val_loss: 0.0364 - val_accuracy: 0.9901\n",
            "Epoch 14/50\n",
            "469/469 [==============================] - 2s 4ms/step - loss: 0.0842 - accuracy: 0.9757 - val_loss: 0.0334 - val_accuracy: 0.9914\n",
            "Epoch 15/50\n",
            "469/469 [==============================] - 2s 4ms/step - loss: 0.0863 - accuracy: 0.9742 - val_loss: 0.0348 - val_accuracy: 0.9903\n",
            "Epoch 16/50\n",
            "469/469 [==============================] - 2s 4ms/step - loss: 0.0803 - accuracy: 0.9758 - val_loss: 0.0368 - val_accuracy: 0.9895\n",
            "Epoch 17/50\n",
            "469/469 [==============================] - 2s 4ms/step - loss: 0.0758 - accuracy: 0.9773 - val_loss: 0.0377 - val_accuracy: 0.9905\n",
            "Epoch 18/50\n",
            "469/469 [==============================] - 2s 4ms/step - loss: 0.0751 - accuracy: 0.9779 - val_loss: 0.0321 - val_accuracy: 0.9910\n",
            "Epoch 19/50\n",
            "469/469 [==============================] - 2s 4ms/step - loss: 0.0720 - accuracy: 0.9791 - val_loss: 0.0292 - val_accuracy: 0.9918\n",
            "Epoch 20/50\n",
            "469/469 [==============================] - 2s 4ms/step - loss: 0.0697 - accuracy: 0.9792 - val_loss: 0.0335 - val_accuracy: 0.9910\n",
            "Epoch 21/50\n",
            "469/469 [==============================] - 2s 4ms/step - loss: 0.0694 - accuracy: 0.9793 - val_loss: 0.0307 - val_accuracy: 0.9925\n",
            "Epoch 22/50\n",
            "469/469 [==============================] - 2s 4ms/step - loss: 0.0626 - accuracy: 0.9809 - val_loss: 0.0354 - val_accuracy: 0.9922\n",
            "Epoch 23/50\n",
            "469/469 [==============================] - 2s 4ms/step - loss: 0.0639 - accuracy: 0.9808 - val_loss: 0.0361 - val_accuracy: 0.9910\n",
            "Epoch 24/50\n",
            "469/469 [==============================] - 2s 4ms/step - loss: 0.0586 - accuracy: 0.9820 - val_loss: 0.0279 - val_accuracy: 0.9917\n",
            "Epoch 25/50\n",
            "469/469 [==============================] - 2s 4ms/step - loss: 0.0610 - accuracy: 0.9818 - val_loss: 0.0347 - val_accuracy: 0.9904\n",
            "Epoch 26/50\n",
            "469/469 [==============================] - 2s 4ms/step - loss: 0.0566 - accuracy: 0.9829 - val_loss: 0.0333 - val_accuracy: 0.9917\n",
            "Epoch 27/50\n",
            "469/469 [==============================] - 2s 4ms/step - loss: 0.0574 - accuracy: 0.9829 - val_loss: 0.0290 - val_accuracy: 0.9922\n",
            "Epoch 28/50\n",
            "469/469 [==============================] - 2s 4ms/step - loss: 0.0583 - accuracy: 0.9821 - val_loss: 0.0312 - val_accuracy: 0.9914\n",
            "Epoch 29/50\n",
            "469/469 [==============================] - 2s 4ms/step - loss: 0.0561 - accuracy: 0.9830 - val_loss: 0.0324 - val_accuracy: 0.9919\n",
            "Epoch 00029: early stopping\n"
          ],
          "name": "stdout"
        }
      ]
    },
    {
      "cell_type": "code",
      "metadata": {
        "id": "_OMCTT67g0x0",
        "outputId": "0cc932f8-1aec-4bfc-e569-5363bd2ddbd6",
        "colab": {
          "base_uri": "https://localhost:8080/",
          "height": 346
        }
      },
      "source": [
        "test_loss, test_acc = model.evaluate(test_images,  test_labels, verbose=2)\n",
        "print('Test Accuracy: {}%'.format(np.round(test_acc*100,2)))\n",
        "low = np.sort(history.history['accuracy'])[0]\n",
        "\n",
        "plt.plot(history.history['accuracy'], label='accuracy')\n",
        "plt.plot(history.history['val_accuracy'], label = 'val_accuracy')\n",
        "plt.xlabel('Epoch')\n",
        "plt.ylabel('Accuracy')\n",
        "plt.title('Test Accuracy vs Valuation Accuracy')\n",
        "plt.ylim([round(low-0.05,1), 1])\n",
        "plt.legend()"
      ],
      "execution_count": 12,
      "outputs": [
        {
          "output_type": "stream",
          "text": [
            "313/313 - 1s - loss: 0.0324 - accuracy: 0.9919\n",
            "Test Accuracy: 99.19%\n"
          ],
          "name": "stdout"
        },
        {
          "output_type": "execute_result",
          "data": {
            "text/plain": [
              "<matplotlib.legend.Legend at 0x7f4bb9474e48>"
            ]
          },
          "metadata": {
            "tags": []
          },
          "execution_count": 12
        },
        {
          "output_type": "display_data",
          "data": {
            "image/png": "[encoded data removed]",
            "text/plain": [
              "<Figure size 432x288 with 1 Axes>"
            ]
          },
          "metadata": {
            "tags": [],
            "needs_background": "light"
          }
        }
      ]
    },
    {
      "cell_type": "code",
      "metadata": {
        "id": "ftheoww9g0x2",
        "outputId": "21bf23ed-2a9f-4dce-ad7b-3a0bbc7145fd",
        "colab": {
          "base_uri": "https://localhost:8080/",
          "height": 312
        }
      },
      "source": [
        "high = np.sort(history.history['loss'])[-1]\n",
        "\n",
        "plt.plot(history.history['loss'], label='loss')\n",
        "plt.plot(history.history['val_loss'], label = 'val_loss')\n",
        "plt.xlabel('Epoch')\n",
        "plt.ylabel('Loss')\n",
        "plt.title('Test Loss vs Valuation Loss')\n",
        "plt.ylim([0,round(high+0.05,1)])\n",
        "plt.legend()"
      ],
      "execution_count": 13,
      "outputs": [
        {
          "output_type": "execute_result",
          "data": {
            "text/plain": [
              "<matplotlib.legend.Legend at 0x7f4bb8c378d0>"
            ]
          },
          "metadata": {
            "tags": []
          },
          "execution_count": 13
        },
        {
          "output_type": "display_data",
          "data": {
            "image/png": "[encoded data removed]",
            "text/plain": [
              "<Figure size 432x288 with 1 Axes>"
            ]
          },
          "metadata": {
            "tags": [],
            "needs_background": "light"
          }
        }
      ]
    },
    {
      "cell_type": "markdown",
      "metadata": {
        "id": "lbkEBbHtg0x4"
      },
      "source": [
        "As with one convultional layer I was occasionally able to produce a higher final test accurcay than normal using multiple convolutional layers. The highest final test accuracy was 99.43% but in general they tend to be around 99.1%. For there to be a significant difference in the final test accuracy I had to add 3 more convolutional layers for less than 1% increase in test accuracy. In this case it may not be totaly beneficial to add more convolutional layers as the big increase in computational power required does not yield much more accuracy. "
      ]
    },
    {
      "cell_type": "code",
      "metadata": {
        "id": "fpXzPEogg0x7"
      },
      "source": [
        ""
      ],
      "execution_count": 13,
      "outputs": []
    }
  ]
}