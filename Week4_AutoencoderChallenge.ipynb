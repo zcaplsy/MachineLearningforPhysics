{
  "nbformat": 4,
  "nbformat_minor": 0,
  "metadata": {
    "accelerator": "GPU",
    "colab": {
      "name": "Week4_AutoencoderChallenge-3.ipynb",
      "provenance": [],
      "collapsed_sections": []
    },
    "kernelspec": {
      "display_name": "Python 3",
      "language": "python",
      "name": "python3"
    },
    "language_info": {
      "codemirror_mode": {
        "name": "ipython",
        "version": 3
      },
      "file_extension": ".py",
      "mimetype": "text/x-python",
      "name": "python",
      "nbconvert_exporter": "python",
      "pygments_lexer": "ipython3",
      "version": "3.7.4"
    }
  },
  "cells": [
    {
      "cell_type": "markdown",
      "metadata": {
        "id": "uT2q7BGmpRqN"
      },
      "source": [
        "# Practical Machine Learning for Physicists\n",
        "## Week 2 Exercise - Part 2\n",
        "## Deadline Monday 9th November at 12pm (Noon)"
      ]
    },
    {
      "cell_type": "markdown",
      "metadata": {
        "id": "ART1bcKepRqP"
      },
      "source": [
        "For both of these tasks we want you to implement autoencoder networks that:\n",
        "- Train on randomly generated circles (using the circle_generator function below)\n",
        "- Use 27x27 pixel images\n",
        "- Use no more than 30,000 randomly generated samples (e.g. batchsize 30 and 1000 steps, or batchsize 1000 and 30 steps, or anywhere inbetween) in training the final networks for each task\n",
        "- Use the mean_squared_error loss function\n",
        "- Fulfil the network size requirement listed in the task (can be verifired using the print_layers function, after the network is partially trained)\n",
        "#### Practicalities\n",
        "You should use this notebook for your work and upload it to both Moodle and CoCalc. You are expected to use TensorFlow and Keras to complete these tasks. The notebook should be self-contained and able to be executed if necessary. Marks will be awarded for (roughly equally weighted):\n",
        "- Overall notebook clarity (both in terms of good coding practice and coherent discussion)\n",
        "- Task 1 performance (0.02 is a good target cost to do better than)\n",
        "- Task 2 performance ( a good target here is left for the student to determine)\n",
        "\n"
      ]
    },
    {
      "cell_type": "code",
      "metadata": {
        "id": "h0NCLglVpRqQ",
        "outputId": "bec7027c-256e-4060-b524-6f9db519a2b2",
        "colab": {
          "base_uri": "https://localhost:8080/"
        }
      },
      "source": [
        "#imports\n",
        "import matplotlib.pyplot as plt\n",
        "import numpy as np\n",
        "import math\n",
        "\n",
        "# TensorFlow and tf.keras\n",
        "import tensorflow as tf\n",
        "from tensorflow import keras\n",
        "\n",
        "import matplotlib.style \n",
        "import matplotlib as mpl\n",
        "\n",
        "\n",
        "#Set default figure size\n",
        "mpl.rcParams[\"legend.frameon\"] = False\n",
        "mpl.rcParams['figure.dpi']=200 # dots per inch\n",
        "\n",
        "#For debugging problems\n",
        "print(tf.__version__)"
      ],
      "execution_count": 1,
      "outputs": [
        {
          "output_type": "stream",
          "text": [
            "2.3.0\n"
          ],
          "name": "stdout"
        }
      ]
    },
    {
      "cell_type": "code",
      "metadata": {
        "id": "EQeoojG8pRqW"
      },
      "source": [
        "#A big messy function to do the training\n",
        "# model -- our keras neural model autoencoder\n",
        "# image_generator -- a function to generate random images for the training (see below for examples)\n",
        "# img_size -- the size of our image in pixels\n",
        "# batchsize -- the number of images to include in each training batch\n",
        "# steps -- the number of steps taken in the training\n",
        "#\n",
        "# returns an array of the costs\n",
        "def generate_and_train(model,image_generator,img_size,batchsize,steps):\n",
        "   \n",
        "    #Generate an array of the numbers 1 to img_size and create a meshgrid from them    \n",
        "    pixels=np.linspace(-1,1,img_size)\n",
        "    x,y=np.meshgrid(pixels,pixels)\n",
        "    \n",
        "    #Now create a test image using 1 call to image_generator\n",
        "    #y_test=np.zeros([1,pixels,pixels,1])\n",
        "    #y_test[:,:,:,0]=image_generator(1,x,y)\n",
        "    \n",
        "    #Now create the empty arrays for the images and cost\n",
        "    y_in=np.zeros([batchsize,img_size,img_size,1])\n",
        "    y_target=np.zeros([batchsize,img_size,img_size,1])\n",
        "    cost=np.zeros(steps)\n",
        "    \n",
        "    #Loop through the steps, get a random batch of samples, train the model, repeat\n",
        "    for k in range(steps):\n",
        "        # produce samples:\n",
        "        y_in[:,:,:,0]=image_generator(batchsize,x,y)\n",
        "        y_target=np.copy(y_in) # autoencoder wants to reproduce its input!\n",
        "        \n",
        "        # do one training step on this batch of samples:\n",
        "        cost[k]=model.train_on_batch(y_in,y_target)\n",
        "    \n",
        "    return cost,y_target\n",
        "\n",
        "def get_test_image(image_generator,img_size):\n",
        "    #Generate an array of the numbers 1 to img_size and create a meshgrid from them    \n",
        "    pixels=np.linspace(-1,1,img_size)\n",
        "    x,y=np.meshgrid(pixels,pixels)\n",
        "    \n",
        "    #Now create a test image using 1 call to image_generator\n",
        "    y_test=np.zeros([1,img_size,img_size,1])\n",
        "    y_test[:,:,:,0]=image_generator(1,x,y)\n",
        "    return y_test\n",
        "\n",
        "# A function to generate and plot a single test image and the output of our model\n",
        "# only to be called after training the model\n",
        "def plot_test_image(model,image_generator,img_size):\n",
        "    #Get random test image\n",
        "    y_test=get_test_image(image_generator,img_size)\n",
        "    \n",
        "    #Create the output image\n",
        "    y_test_out=model.predict_on_batch(y_test)\n",
        "    fig, ax = plt.subplots(1,2)\n",
        "    ax[0].imshow(y_test[0,:,:,0],origin='lower')\n",
        "    ax[0].set_title(\"Input\")\n",
        "    ax[1].imshow(y_test_out[0,:,:,0],origin='lower')\n",
        "    ax[1].set_title(\"Output\")\n",
        "    \n",
        "def print_layers(network, y_in):\n",
        "    \"\"\"\n",
        "    Call this on some test images y_in, to get a print-out of\n",
        "    the layer sizes. Shapes shown are (batchsize,pixels,pixels,channels).\n",
        "    After a call to the visualization routine, y_target will contain\n",
        "    the last set of training images, so you could feed those in here.\n",
        "    \"\"\"\n",
        "    layer_features=get_layer_activations(network,y_in)\n",
        "    #print(layer_features)\n",
        "    for idx,feature in enumerate(layer_features):\n",
        "        s=np.shape(feature)\n",
        "        print(\"Layer \"+str(idx)+\": \"+str(s[1]*s[2]*s[3])+\" neurons / \", s)\n",
        "\n",
        "def get_layer_activation_extractor(network):\n",
        "    #print(network.inputs)\n",
        "    #for layer in network.layers:\n",
        "    #    print(layer.output)\n",
        "    return(keras.Model(inputs=network.inputs,\n",
        "                            outputs=[layer.output for layer in network.layers]))\n",
        "\n",
        "def get_layer_activations(network, y_in):\n",
        "    \"\"\"\n",
        "    Call this on some test images y_in, to get the intermediate \n",
        "    layer neuron values. These are returned in a list, with one\n",
        "    entry for each layer (the entries are arrays).\n",
        "    \"\"\"\n",
        "    extractor=get_layer_activation_extractor(network)\n",
        "    #print(extractor)\n",
        "    layer_features = extractor(y_in)\n",
        "    return layer_features\n",
        "    "
      ],
      "execution_count": 2,
      "outputs": []
    },
    {
      "cell_type": "markdown",
      "metadata": {
        "id": "5BbBzoZ7pRrS"
      },
      "source": [
        "## Circle generator\n"
      ]
    },
    {
      "cell_type": "code",
      "metadata": {
        "id": "XdN5iQwqpRrT"
      },
      "source": [
        "# A simple image generator that returns an array of batchsize images\n",
        "# each image has a size of x * y pixels\n",
        "# in this image each image has a randomly placed circle (and the circle is of random size)\n",
        "def circle_generator(batchsize,x,y):\n",
        "    R=np.random.uniform(size=batchsize)\n",
        "    x0=np.random.uniform(size=batchsize,low=-1,high=1)\n",
        "    y0=np.random.uniform(size=batchsize,low=-1,high=1)\n",
        "    return( 1.0*((x[None,:,:]-x0[:,None,None])**2 + (y[None,:,:]-y0[:,None,None])**2 < R[:,None,None]**2) )\n"
      ],
      "execution_count": 3,
      "outputs": []
    },
    {
      "cell_type": "markdown",
      "metadata": {
        "id": "vXBXEE2z0v_l"
      },
      "source": [
        "### Task 1:\n",
        "Implement any network design, but the bottleneck must contain no more than 9 neurons."
      ]
    },
    {
      "cell_type": "code",
      "metadata": {
        "id": "B6b_jC8hpRrb",
        "outputId": "dc123cff-3cf6-4978-c7da-675f5c62911a",
        "colab": {
          "base_uri": "https://localhost:8080/"
        }
      },
      "source": [
        "model=keras.models.Sequential()\n",
        "# 3x3 kernel size, 10 channels in first hidden layer:\n",
        "model.add(keras.layers.Conv2D(128,5,input_shape=(None,None,1),activation=\"relu\",padding='same'))\n",
        "model.add(keras.layers.AveragePooling2D(pool_size=(3,3),padding='same')) # down reduces image size  27*27 -> 9*9\n",
        "\n",
        "model.add(keras.layers.Conv2D(64,5,activation=\"relu\",padding='same'))\n",
        "model.add(keras.layers.AveragePooling2D(pool_size=(3,3),padding='same')) # down reduces image size  9*9 -> 3*3\n",
        "\n",
        "model.add(keras.layers.Conv2D(1,3,activation=\"relu\",padding='same'))     # 9 neuron layer\n",
        "model.add(keras.layers.UpSampling2D(size=(3,3)))                         # up increases image size 3*3 -> 9*9\n",
        "\n",
        "model.add(keras.layers.Conv2D(64,5,activation=\"relu\",padding='same'))\n",
        "model.add(keras.layers.UpSampling2D(size=(3,3)))                         # up increases image size 9*9 -> 3*3\n",
        "\n",
        "model.add(keras.layers.Conv2D(128,5,activation=\"relu\",padding='same'))\n",
        "\n",
        "model.add(keras.layers.Conv2D(256,5,activation=\"relu\",padding='same'))   # last layer \n",
        "\n",
        "model.compile(loss='mean_squared_error',\n",
        "              optimizer='adam')\n",
        "model.summary()"
      ],
      "execution_count": 4,
      "outputs": [
        {
          "output_type": "stream",
          "text": [
            "Model: \"sequential\"\n",
            "_________________________________________________________________\n",
            "Layer (type)                 Output Shape              Param #   \n",
            "=================================================================\n",
            "conv2d (Conv2D)              (None, None, None, 128)   3328      \n",
            "_________________________________________________________________\n",
            "average_pooling2d (AveragePo (None, None, None, 128)   0         \n",
            "_________________________________________________________________\n",
            "conv2d_1 (Conv2D)            (None, None, None, 64)    204864    \n",
            "_________________________________________________________________\n",
            "average_pooling2d_1 (Average (None, None, None, 64)    0         \n",
            "_________________________________________________________________\n",
            "conv2d_2 (Conv2D)            (None, None, None, 1)     577       \n",
            "_________________________________________________________________\n",
            "up_sampling2d (UpSampling2D) (None, None, None, 1)     0         \n",
            "_________________________________________________________________\n",
            "conv2d_3 (Conv2D)            (None, None, None, 64)    1664      \n",
            "_________________________________________________________________\n",
            "up_sampling2d_1 (UpSampling2 (None, None, None, 64)    0         \n",
            "_________________________________________________________________\n",
            "conv2d_4 (Conv2D)            (None, None, None, 128)   204928    \n",
            "_________________________________________________________________\n",
            "conv2d_5 (Conv2D)            (None, None, None, 256)   819456    \n",
            "=================================================================\n",
            "Total params: 1,234,817\n",
            "Trainable params: 1,234,817\n",
            "Non-trainable params: 0\n",
            "_________________________________________________________________\n"
          ],
          "name": "stdout"
        }
      ]
    },
    {
      "cell_type": "code",
      "metadata": {
        "id": "LuPrRO2YpRrg",
        "scrolled": true,
        "outputId": "cac95685-a824-45d1-a9bb-555eed1743bf",
        "colab": {
          "base_uri": "https://localhost:8080/",
          "height": 312
        }
      },
      "source": [
        "# Now we can do the actual model training\n",
        "steps=600\n",
        "cost,y_target=generate_and_train(model,circle_generator,img_size=9*3,batchsize=50,steps=steps)\n",
        "#Plot the cost\n",
        "fig, ax = plt.subplots()\n",
        "stepArray=np.arange(steps) \n",
        "ax.plot(stepArray,cost,linewidth=3) \n",
        "ax.set_xlabel(\"Step Number\") \n",
        "ax.set_ylabel(\"Cost\")\n",
        "ax.set_title(\"Bottleneck of 9 neurons\")\n",
        "print('Final cost: {}'.format(round(cost[-1],4)))"
      ],
      "execution_count": 5,
      "outputs": [
        {
          "output_type": "stream",
          "text": [
            "Final cost: 0.0075\n"
          ],
          "name": "stdout"
        },
        {
          "output_type": "display_data",
          "data": {
            "image/png": "[encoded data removed]",
            "text/plain": [
              "<Figure size 432x288 with 1 Axes>"
            ]
          },
          "metadata": {
            "tags": [],
            "needs_background": "light"
          }
        }
      ]
    },
    {
      "cell_type": "code",
      "metadata": {
        "id": "kRL_0uZ9pRri",
        "outputId": "c0ced94d-f85c-4311-e82d-6d78fc7663a6",
        "colab": {
          "base_uri": "https://localhost:8080/"
        }
      },
      "source": [
        "print_layers(model,y_target)"
      ],
      "execution_count": 6,
      "outputs": [
        {
          "output_type": "stream",
          "text": [
            "Layer 0: 93312 neurons /  (50, 27, 27, 128)\n",
            "Layer 1: 10368 neurons /  (50, 9, 9, 128)\n",
            "Layer 2: 5184 neurons /  (50, 9, 9, 64)\n",
            "Layer 3: 576 neurons /  (50, 3, 3, 64)\n",
            "Layer 4: 9 neurons /  (50, 3, 3, 1)\n",
            "Layer 5: 81 neurons /  (50, 9, 9, 1)\n",
            "Layer 6: 5184 neurons /  (50, 9, 9, 64)\n",
            "Layer 7: 46656 neurons /  (50, 27, 27, 64)\n",
            "Layer 8: 93312 neurons /  (50, 27, 27, 128)\n",
            "Layer 9: 186624 neurons /  (50, 27, 27, 256)\n"
          ],
          "name": "stdout"
        }
      ]
    },
    {
      "cell_type": "code",
      "metadata": {
        "id": "xThpj3zNpRrl",
        "outputId": "2633d3a1-4679-4b48-9d23-25b0e9521d95",
        "colab": {
          "base_uri": "https://localhost:8080/",
          "height": 216
        }
      },
      "source": [
        "plot_test_image(model,circle_generator,27)"
      ],
      "execution_count": 7,
      "outputs": [
        {
          "output_type": "display_data",
          "data": {
            "image/png": "[encoded data removed]",
            "text/plain": [
              "<Figure size 432x288 with 2 Axes>"
            ]
          },
          "metadata": {
            "tags": [],
            "needs_background": "light"
          }
        }
      ]
    },
    {
      "cell_type": "markdown",
      "metadata": {
        "id": "vlRBfjuC0v_t"
      },
      "source": [
        "### Task 2:\n",
        "Implement any network design, but the bottleneck must contain no more than 3 neurons.\n",
        "\n"
      ]
    },
    {
      "cell_type": "code",
      "metadata": {
        "id": "O-sVLWUnsagF",
        "outputId": "f71cd53a-f19d-4066-9532-c95fee65bba5",
        "colab": {
          "base_uri": "https://localhost:8080/"
        }
      },
      "source": [
        "model2=keras.models.Sequential()\n",
        "# 3x3 kernel size, 10 channels in first hidden layer:\n",
        "model2.add(keras.layers.Conv2D(128,5,input_shape=(None,None,1),activation=\"relu\",padding='same'))\n",
        "model2.add(keras.layers.AveragePooling2D(pool_size=(3,3),padding='same')) # down reduces image size  27*27 -> 9*9\n",
        "\n",
        "model2.add(keras.layers.Conv2D(64,5,activation=\"relu\",padding='same'))\n",
        "model2.add(keras.layers.AveragePooling2D(pool_size=(3,3),padding='same')) # down reduces image size  9*9 -> 3*3\n",
        "\n",
        "model2.add(keras.layers.Conv2D(64,5,activation=\"relu\",padding='same'))\n",
        "model2.add(keras.layers.AveragePooling2D(pool_size=(3,3),padding='same')) # down reduces image size  3*3 -> 1*1\n",
        "\n",
        "\n",
        "model2.add(keras.layers.Conv2D(3,3,activation=\"relu\",padding='same'))     # 3 neuron layer\n",
        "model2.add(keras.layers.UpSampling2D(size=(3,3)))                         # up increases image size 1*1 -> 3*3\n",
        "\n",
        "model2.add(keras.layers.Conv2D(64,5,activation=\"relu\",padding='same'))\n",
        "model2.add(keras.layers.UpSampling2D(size=(3,3)))                         # up increases image size 3*3 -> 9*9\n",
        "\n",
        "model2.add(keras.layers.Conv2D(64,5,activation=\"relu\",padding='same'))\n",
        "model2.add(keras.layers.UpSampling2D(size=(3,3)))                         # up increases image size 9*9 -> 27*27\n",
        "\n",
        "model2.add(keras.layers.Conv2D(128,5,activation=\"relu\",padding='same')) \n",
        "\n",
        "model2.add(keras.layers.Conv2D(512,5,activation=\"linear\",padding='same')) #last layer\n",
        "\n",
        "model2.compile(loss='mean_squared_error',\n",
        "              optimizer='adam')\n",
        "model2.summary()"
      ],
      "execution_count": 8,
      "outputs": [
        {
          "output_type": "stream",
          "text": [
            "Model: \"sequential_1\"\n",
            "_________________________________________________________________\n",
            "Layer (type)                 Output Shape              Param #   \n",
            "=================================================================\n",
            "conv2d_6 (Conv2D)            (None, None, None, 128)   3328      \n",
            "_________________________________________________________________\n",
            "average_pooling2d_2 (Average (None, None, None, 128)   0         \n",
            "_________________________________________________________________\n",
            "conv2d_7 (Conv2D)            (None, None, None, 64)    204864    \n",
            "_________________________________________________________________\n",
            "average_pooling2d_3 (Average (None, None, None, 64)    0         \n",
            "_________________________________________________________________\n",
            "conv2d_8 (Conv2D)            (None, None, None, 64)    102464    \n",
            "_________________________________________________________________\n",
            "average_pooling2d_4 (Average (None, None, None, 64)    0         \n",
            "_________________________________________________________________\n",
            "conv2d_9 (Conv2D)            (None, None, None, 3)     1731      \n",
            "_________________________________________________________________\n",
            "up_sampling2d_2 (UpSampling2 (None, None, None, 3)     0         \n",
            "_________________________________________________________________\n",
            "conv2d_10 (Conv2D)           (None, None, None, 64)    4864      \n",
            "_________________________________________________________________\n",
            "up_sampling2d_3 (UpSampling2 (None, None, None, 64)    0         \n",
            "_________________________________________________________________\n",
            "conv2d_11 (Conv2D)           (None, None, None, 64)    102464    \n",
            "_________________________________________________________________\n",
            "up_sampling2d_4 (UpSampling2 (None, None, None, 64)    0         \n",
            "_________________________________________________________________\n",
            "conv2d_12 (Conv2D)           (None, None, None, 128)   204928    \n",
            "_________________________________________________________________\n",
            "conv2d_13 (Conv2D)           (None, None, None, 512)   1638912   \n",
            "=================================================================\n",
            "Total params: 2,263,555\n",
            "Trainable params: 2,263,555\n",
            "Non-trainable params: 0\n",
            "_________________________________________________________________\n"
          ],
          "name": "stdout"
        }
      ]
    },
    {
      "cell_type": "code",
      "metadata": {
        "id": "2wIYCVFBukEq",
        "outputId": "6dc07222-c16c-4bc4-b62f-12ff1a93841a",
        "colab": {
          "base_uri": "https://localhost:8080/",
          "height": 312
        }
      },
      "source": [
        "# Now we can do the actual model training\n",
        "steps=1000\n",
        "cost,y_target=generate_and_train(model2,circle_generator,img_size=9*3,batchsize=30,steps=steps)\n",
        "#Plot the cost\n",
        "fig, ax = plt.subplots()\n",
        "stepArray=np.arange(steps) \n",
        "ax.plot(stepArray,cost,linewidth=3) \n",
        "ax.set_xlabel(\"Step Number\") \n",
        "ax.set_ylabel(\"Cost\")\n",
        "ax.set_title(\"Bottleneck of 3 neurons\")\n",
        "print('Final cost: {}'.format(round(cost[-1],4)))"
      ],
      "execution_count": 9,
      "outputs": [
        {
          "output_type": "stream",
          "text": [
            "Final cost: 0.1435\n"
          ],
          "name": "stdout"
        },
        {
          "output_type": "display_data",
          "data": {
            "image/png": "[encoded data removed]",
            "text/plain": [
              "<Figure size 432x288 with 1 Axes>"
            ]
          },
          "metadata": {
            "tags": [],
            "needs_background": "light"
          }
        }
      ]
    },
    {
      "cell_type": "code",
      "metadata": {
        "id": "RwjCMbKRuldk",
        "outputId": "fece648d-1525-4362-de7d-147d6c6ce38a",
        "colab": {
          "base_uri": "https://localhost:8080/"
        }
      },
      "source": [
        "print_layers(model2,y_target)"
      ],
      "execution_count": 10,
      "outputs": [
        {
          "output_type": "stream",
          "text": [
            "Layer 0: 93312 neurons /  (30, 27, 27, 128)\n",
            "Layer 1: 10368 neurons /  (30, 9, 9, 128)\n",
            "Layer 2: 5184 neurons /  (30, 9, 9, 64)\n",
            "Layer 3: 576 neurons /  (30, 3, 3, 64)\n",
            "Layer 4: 576 neurons /  (30, 3, 3, 64)\n",
            "Layer 5: 64 neurons /  (30, 1, 1, 64)\n",
            "Layer 6: 3 neurons /  (30, 1, 1, 3)\n",
            "Layer 7: 27 neurons /  (30, 3, 3, 3)\n",
            "Layer 8: 576 neurons /  (30, 3, 3, 64)\n",
            "Layer 9: 5184 neurons /  (30, 9, 9, 64)\n",
            "Layer 10: 5184 neurons /  (30, 9, 9, 64)\n",
            "Layer 11: 46656 neurons /  (30, 27, 27, 64)\n",
            "Layer 12: 93312 neurons /  (30, 27, 27, 128)\n",
            "Layer 13: 373248 neurons /  (30, 27, 27, 512)\n"
          ],
          "name": "stdout"
        }
      ]
    },
    {
      "cell_type": "code",
      "metadata": {
        "id": "w1kFM7xkvBJP",
        "outputId": "7dbc7152-5538-4bdb-9911-00c5a5dd5825",
        "colab": {
          "base_uri": "https://localhost:8080/",
          "height": 216
        }
      },
      "source": [
        "plot_test_image(model2,circle_generator,27)"
      ],
      "execution_count": 11,
      "outputs": [
        {
          "output_type": "display_data",
          "data": {
            "image/png": "[encoded data removed]",
            "text/plain": [
              "<Figure size 432x288 with 2 Axes>"
            ]
          },
          "metadata": {
            "tags": [],
            "needs_background": "light"
          }
        }
      ]
    },
    {
      "cell_type": "code",
      "metadata": {
        "id": "BQeoMEDhv6vZ",
        "outputId": "a41f404d-7c30-45a0-dfd7-571d56a8310e",
        "colab": {
          "base_uri": "https://localhost:8080/"
        }
      },
      "source": [
        "l = 20\n",
        "fcost = np.zeros(l)\n",
        "steps=1000\n",
        "for i in range(l):\n",
        "    model2=keras.models.Sequential()\n",
        "    \n",
        "    model2.add(keras.layers.Conv2D(128,5,input_shape=(None,None,1),activation=\"relu\",padding='same'))\n",
        "    # down reduces image size  27*27 -> 9*9\n",
        "    model2.add(keras.layers.AveragePooling2D(pool_size=(3,3),padding='same'))\n",
        "\n",
        "    model2.add(keras.layers.Conv2D(64,5,activation=\"relu\",padding='same'))\n",
        "    # down reduces image size  9*9 -> 3*3\n",
        "    model2.add(keras.layers.AveragePooling2D(pool_size=(3,3),padding='same'))\n",
        "\n",
        "    model2.add(keras.layers.Conv2D(64,5,activation=\"relu\",padding='same'))\n",
        "    # down reduces image size  3*3 -> 1*1\n",
        "    model2.add(keras.layers.AveragePooling2D(pool_size=(3,3),padding='same')) \n",
        "\n",
        "\n",
        "    model2.add(keras.layers.Conv2D(3,3,activation=\"relu\",padding='same'))     # 3 neuron layer\n",
        "    # up increases image size 1*1 -> 3*3\n",
        "    model2.add(keras.layers.UpSampling2D(size=(3,3)))                         \n",
        "\n",
        "    model2.add(keras.layers.Conv2D(64,5,activation=\"relu\",padding='same'))\n",
        "    # up increases image size 3*3 -> 9*9\n",
        "    model2.add(keras.layers.UpSampling2D(size=(3,3)))                         \n",
        "\n",
        "    model2.add(keras.layers.Conv2D(64,5,activation=\"relu\",padding='same'))\n",
        "    # up increases image size 9*9 -> 27*27\n",
        "    model2.add(keras.layers.UpSampling2D(size=(3,3)))                         \n",
        "\n",
        "    model2.add(keras.layers.Conv2D(128,5,activation=\"relu\",padding='same')) \n",
        "\n",
        "    model2.add(keras.layers.Conv2D(512,5,activation=\"linear\",padding='same')) #last layer\n",
        "\n",
        "    model2.compile(loss='mean_squared_error',\n",
        "              optimizer='adam')\n",
        "    cost,y_target=generate_and_train(model2,circle_generator,img_size=9*3,batchsize=30,steps=steps)\n",
        "    fcost[i]= cost[-1]\n",
        "    print(i+1,'out of',l)\n"
      ],
      "execution_count": 12,
      "outputs": [
        {
          "output_type": "stream",
          "text": [
            "1 out of 20\n",
            "2 out of 20\n",
            "3 out of 20\n",
            "4 out of 20\n",
            "5 out of 20\n",
            "6 out of 20\n",
            "7 out of 20\n",
            "8 out of 20\n",
            "9 out of 20\n",
            "10 out of 20\n",
            "11 out of 20\n",
            "12 out of 20\n",
            "13 out of 20\n",
            "14 out of 20\n",
            "15 out of 20\n",
            "16 out of 20\n",
            "17 out of 20\n",
            "18 out of 20\n",
            "19 out of 20\n",
            "20 out of 20\n"
          ],
          "name": "stdout"
        }
      ]
    },
    {
      "cell_type": "code",
      "metadata": {
        "id": "-m-KepEGX435",
        "outputId": "cca517f3-9cd0-47d3-d406-706f438cd739",
        "colab": {
          "base_uri": "https://localhost:8080/"
        }
      },
      "source": [
        "print('Final Cost Values:',fcost)"
      ],
      "execution_count": 14,
      "outputs": [
        {
          "output_type": "stream",
          "text": [
            "Final Cost Values: [0.03207168 0.11609237 0.04987256 0.07695428 0.03730131 0.04911431\n",
            " 0.01060012 0.00944711 0.05350025 0.00953344 0.01103466 0.01117383\n",
            " 0.05130559 0.04725001 0.00733441 0.0501614  0.0350532  0.00680855\n",
            " 0.00769743 0.01045305]\n"
          ],
          "name": "stdout"
        }
      ]
    },
    {
      "cell_type": "code",
      "metadata": {
        "id": "crWH3QCqX8cQ"
      },
      "source": [
        "av = np.average(fcost)"
      ],
      "execution_count": 15,
      "outputs": []
    },
    {
      "cell_type": "code",
      "metadata": {
        "id": "WUnIPfW5be2t",
        "outputId": "f22ac09f-df3a-4161-cda3-b97b0890e2b1",
        "colab": {
          "base_uri": "https://localhost:8080/",
          "height": 312
        }
      },
      "source": [
        "plt.plot(fcost,'.')\n",
        "plt.plot(np.arange(l),np.ones(l)*av,label='Average Cost over {} iterations'.format(l))\n",
        "plt.legend()\n",
        "plt.xlabel('Iteration Number')\n",
        "plt.ylabel('Final Cost')\n",
        "plt.title('Final Cost Of Each Iteration')"
      ],
      "execution_count": 16,
      "outputs": [
        {
          "output_type": "execute_result",
          "data": {
            "text/plain": [
              "Text(0.5, 1.0, 'Final Cost Of Each Iteration')"
            ]
          },
          "metadata": {
            "tags": []
          },
          "execution_count": 16
        },
        {
          "output_type": "display_data",
          "data": {
            "image/png": "[encoded data removed]",
            "text/plain": [
              "<Figure size 432x288 with 1 Axes>"
            ]
          },
          "metadata": {
            "tags": [],
            "needs_background": "light"
          }
        }
      ]
    },
    {
      "cell_type": "markdown",
      "metadata": {
        "id": "KdaiCfh2bmBn"
      },
      "source": [
        "For the network with a bottleneck of 9 neurons I found to be quite consistent so didn't require the need of an average over multiple iterations. Whilst the bottleneck of 9 would consistently have a final cost of bellow 0.01 on the other hand the bottleneck of 3 I found to vary a fair amount. Multiple final cost values bellow 0.01 then a similar amount in the range of 0.01 and 0.05 but with a few around 0.1 or higher. So I found that the bottleneck of 3 neurons was not reliable enough to consistently produce good enough images."
      ]
    },
    {
      "cell_type": "code",
      "metadata": {
        "id": "bBD-cU-f0v_3"
      },
      "source": [
        ""
      ],
      "execution_count": null,
      "outputs": []
    }
  ]
}